{
 "cells": [
  {
   "cell_type": "code",
   "execution_count": 1,
   "metadata": {
    "collapsed": true
   },
   "outputs": [],
   "source": [
    "# import libraries\n",
    "\n",
    "import itertools\n",
    "import glob\n",
    "import pandas as pd\n",
    "import seaborn as sns\n",
    "import matplotlib.pyplot as plt\n",
    "import os\n"
   ]
  },
  {
   "cell_type": "markdown",
   "metadata": {},
   "source": [
    "# type in the information in this cell"
   ]
  },
  {
   "cell_type": "code",
   "execution_count": 2,
   "metadata": {
    "collapsed": true
   },
   "outputs": [],
   "source": [
    "# Input information in this cells\n",
    "\n",
    "## Set number\n",
    "SetNumber = 'set2'\n",
    "\n",
    "## path\n",
    "os.chdir(r'O:\\ImStor\\sorger\\data\\Cytell\\Kyun\\cycIF_analysis_python_v2\\set2_20170322_4CL_5h5d_pERK_singleCell')\n",
    "\n",
    "\n",
    "## cycle number - how many rounds in cycIF?\n",
    "\n",
    "TotalCycleNumber = 2     #cycIF cycle number\n",
    "\n",
    "\n",
    "## timepoints by Row and Column\n",
    "\n",
    "Timepoint1 = '5h' #Row BCD, Col2-4\n",
    "Timepoint2 = '1d' #Row BCD, Col5-7\n",
    "Timepoint3 = '2d' #Row BCD, Col8-10\n",
    "\n",
    "Timepoint4 = '3d' #Row EFG, Col2-4\n",
    "Timepoint5 = '4d' #Row EFG, Col5-7\n",
    "Timepoint6 = '5d' #Row EFG, Col8-10\n",
    "\n",
    "\n",
    "## Fill in the antibody information\n",
    "\n",
    "Channel = pd.Series(['DAPI-0001', 'FITC-0001', 'Cy3-0001', 'Cy5-0001',\n",
    "                     'DAPI-0002', 'FITC-0002', 'Cy3-0002', 'Cy5-0002',\n",
    "                     'DAPI-0003', 'FITC-0003', 'Cy3-0003', 'Cy5-0003',\n",
    "                     'DAPI-0004', 'FITC-0004', 'Cy3-0004', 'Cy5-0004',\n",
    "                     ])\n",
    "\n",
    "Staining_BCDEFG = pd.Series(['DAPI1', 'FITC-0001', 'Cy3-0001', 'pErk',\n",
    "                     'DAPI2', 'Ki67', 'pRB', 'pS6-235',\n",
    "                     'DAPI-0003', 'FITC-0003', 'Cy3-0003', 'Cy5-0003',\n",
    "                     'DAPI-0004', 'FITC-0004', 'Cy3-0004', 'Cy5-0004',\n",
    "                     ])\n",
    "\n",
    "\n",
    "# doublecheck from Matlab\n",
    "#     % Column 1-10: DAPI Cycle0 (Nuc 1-5, Cyto 6-10)\n",
    "#     % Column 11-20: DAPI Cycle1\n",
    "#     % Column 21-30: Cy3 Cycle0 \n",
    "#     % Column 31-40: Cy3 Cycle1 :pRB\n",
    "\n",
    "#     % Column 41-50: Cy5 Cycle0 :pErk\n",
    "#     % Column 51-60: Cy5 Cycle1 :pS6-235\n",
    "\n",
    "#     % Column 61-70: FITC Cycle0 \n",
    "#     % Column 71-80: FITC Cycle1 :Ki67"
   ]
  },
  {
   "cell_type": "markdown",
   "metadata": {},
   "source": [
    "# run"
   ]
  },
  {
   "cell_type": "code",
   "execution_count": 3,
   "metadata": {
    "collapsed": true
   },
   "outputs": [],
   "source": [
    "## This is for metadata_set*_Well.csv\n",
    "\n",
    "# Create lists with the different factors.\n",
    "rows = ['B', 'C', 'D', 'E', 'F', 'G']\n",
    "columns = range(2, 10 + 1)\n",
    "\n",
    "# Generate a dataframe with all combinations of all factors (Cartesian product).\n",
    "design = pd.DataFrame(list(itertools.product(\n",
    "    rows, columns\n",
    ")))\n",
    "design.columns = ['Row', 'Column']\n",
    "\n",
    "# Add some helpful columns that are made up by combining other factors.\n",
    "design['Well'] = (\n",
    "    design['Row']\n",
    "    + design['Column'].astype(str).str.pad(2, fillchar='0')\n",
    ")\n",
    "\n",
    "# BCD rows and EFG rows\n",
    "design.loc[design['Row'].isin(['B', 'C', 'D']), 'Top/Bottom'] = 'BCD'\n",
    "design.loc[design['Row'].isin(['E', 'F', 'G']), 'Top/Bottom'] = 'EFG'\n",
    "\n",
    "# Fill in the Treatment by applying the below \"matrix\" over patterns on Row and\n",
    "# Column.\n",
    "design['Treatment'] = None\n",
    "trt_matrix = [\n",
    "    ['DMSO', 'Tram', 'Fulv'],\n",
    "    ['BYL0.03', 'BYL0.3', 'BYL3'],\n",
    "    ['F+BYL0.03', 'F+BYL0.3', 'F+BYL3']\n",
    "]\n",
    "\n",
    "tm_cols = [[2,5,8], [3,6,9], [4,7,10]]\n",
    "tm_rows = [['B', 'E'], ['C', 'F'], ['D', 'G']]\n",
    "\n",
    "for c, columns in enumerate(tm_cols):\n",
    "    for r, rows in enumerate(tm_rows):\n",
    "        idx = (design['Column'].isin(columns)) & (design['Row'].isin(rows))\n",
    "        design.loc[idx, 'Treatment'] = trt_matrix[c][r]\n",
    "        \n",
    "# Fill in the time points\n",
    "design.loc[ (  (design['Row'].isin(['B', 'C', 'D'])) & (design['Column'].isin([2, 3, 4]))  ), 'Time'] = Timepoint1\n",
    "design.loc[ (  (design['Row'].isin(['B', 'C', 'D'])) & (design['Column'].isin([5, 6, 7]))  ), 'Time'] = Timepoint2\n",
    "design.loc[ (  (design['Row'].isin(['B', 'C', 'D'])) & (design['Column'].isin([8, 9, 10]))  ), 'Time'] = Timepoint3\n",
    "\n",
    "design.loc[ (  (design['Row'].isin(['E', 'F', 'G'])) & (design['Column'].isin([2, 3, 4]))  ), 'Time'] = Timepoint4\n",
    "design.loc[ (  (design['Row'].isin(['E', 'F', 'G'])) & (design['Column'].isin([5, 6, 7]))  ), 'Time'] = Timepoint5\n",
    "design.loc[ (  (design['Row'].isin(['E', 'F', 'G'])) & (design['Column'].isin([8, 9, 10]))  ), 'Time'] = Timepoint6\n",
    "\n",
    "# save metadata file\n",
    "fileName1 = 'metadata_' + SetNumber + '_Well.csv'\n",
    "design.to_csv(fileName1)"
   ]
  },
  {
   "cell_type": "code",
   "execution_count": 4,
   "metadata": {
    "collapsed": true
   },
   "outputs": [],
   "source": [
    "## This is for metadata_set*_Staining.csv\n",
    "\n",
    "design_Staining_BCDEFG = pd.DataFrame({'Channel':Channel[:4*TotalCycleNumber],\n",
    "                              'Staining': Staining_BCDEFG[:4*TotalCycleNumber]\n",
    "                               })\n",
    "\n",
    "design_Staining_BCDEFG['Top/Bottom'] = 'BCDEFG'\n",
    "\n",
    "\n",
    "Staining_all = design_Staining_BCDEFG\n",
    "\n",
    "# Save metadata file for staining\n",
    "fileName2 = 'metadata_' + SetNumber + '_Staining.csv'\n",
    "Staining_all.to_csv(fileName2)"
   ]
  },
  {
   "cell_type": "code",
   "execution_count": null,
   "metadata": {
    "collapsed": true
   },
   "outputs": [],
   "source": []
  }
 ],
 "metadata": {
  "kernelspec": {
   "display_name": "Python 3",
   "language": "python",
   "name": "python3"
  },
  "language_info": {
   "codemirror_mode": {
    "name": "ipython",
    "version": 3
   },
   "file_extension": ".py",
   "mimetype": "text/x-python",
   "name": "python",
   "nbconvert_exporter": "python",
   "pygments_lexer": "ipython3",
   "version": "3.6.3"
  }
 },
 "nbformat": 4,
 "nbformat_minor": 2
}

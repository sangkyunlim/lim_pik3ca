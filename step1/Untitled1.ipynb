{
 "cells": [
  {
   "cell_type": "code",
   "execution_count": 47,
   "metadata": {
    "collapsed": true
   },
   "outputs": [],
   "source": [
    "# import libraries\n",
    "\n",
    "import itertools\n",
    "import glob\n",
    "import pandas as pd\n",
    "import seaborn as sns\n",
    "import matplotlib.pyplot as plt\n",
    "import os"
   ]
  },
  {
   "cell_type": "code",
   "execution_count": 59,
   "metadata": {
    "collapsed": true
   },
   "outputs": [],
   "source": [
    "## This is for metadata_set*_Well.csv\n",
    "\n",
    "# Create lists with the different factors.\n",
    "rows = ['A', 'B', 'C', 'D', 'E', 'F', 'G', 'H']\n",
    "columns = range(1, 12 + 1)"
   ]
  },
  {
   "cell_type": "code",
   "execution_count": 60,
   "metadata": {
    "collapsed": true
   },
   "outputs": [],
   "source": [
    "# Generate a dataframe with all combinations of all factors (Cartesian product).\n",
    "design = pd.DataFrame(list(itertools.product(\n",
    "    rows, columns\n",
    ")))\n",
    "design.columns = ['Row', 'Column']\n",
    "\n",
    "# Add some helpful columns that are made up by combining other factors.\n",
    "design['Well'] = (\n",
    "    design['Row']\n",
    "    + design['Column'].astype(str).str.pad(2, fillchar='0')\n",
    ")\n",
    "\n",
    "design['ID'] = range(1,96+1)\n",
    "design.index = design['ID']"
   ]
  },
  {
   "cell_type": "code",
   "execution_count": 61,
   "metadata": {
    "scrolled": true
   },
   "outputs": [],
   "source": [
    "idx1 = design['ID'] <=16\n",
    "idx2 = (design['ID'] >=17) & (design['ID'] <=32)\n",
    "idx3 = (design['ID'] >=33) & (design['ID'] <=64)\n",
    "idx4 = (design['ID'] >=65) & (design['ID'] <=96)\n"
   ]
  },
  {
   "cell_type": "code",
   "execution_count": 62,
   "metadata": {
    "collapsed": true
   },
   "outputs": [],
   "source": [
    "design.loc[idx1, 'Set'] = 'Set#1'\n",
    "design.loc[idx2, 'Set'] = 'Set#2'\n",
    "design.loc[idx3, 'Set'] = 'Set#3'\n",
    "design.loc[idx4, 'Set'] = 'Set#4'"
   ]
  },
  {
   "cell_type": "code",
   "execution_count": 63,
   "metadata": {},
   "outputs": [],
   "source": [
    "design.loc[idx1, 'RNA_isolation_date'] = '20180622'\n",
    "design.loc[idx2, 'RNA_isolation_date'] = '20180623'\n",
    "design.loc[idx3, 'RNA_isolation_date'] = '20180627'\n",
    "design.loc[idx4, 'RNA_isolation_date'] = '20180702'"
   ]
  },
  {
   "cell_type": "code",
   "execution_count": 65,
   "metadata": {},
   "outputs": [
    {
     "data": {
      "text/html": [
       "<div>\n",
       "<style>\n",
       "    .dataframe thead tr:only-child th {\n",
       "        text-align: right;\n",
       "    }\n",
       "\n",
       "    .dataframe thead th {\n",
       "        text-align: left;\n",
       "    }\n",
       "\n",
       "    .dataframe tbody tr th {\n",
       "        vertical-align: top;\n",
       "    }\n",
       "</style>\n",
       "<table border=\"1\" class=\"dataframe\">\n",
       "  <thead>\n",
       "    <tr style=\"text-align: right;\">\n",
       "      <th></th>\n",
       "      <th>Row</th>\n",
       "      <th>Column</th>\n",
       "      <th>Well</th>\n",
       "      <th>ID</th>\n",
       "      <th>Set</th>\n",
       "      <th>RNA_isolation_date</th>\n",
       "    </tr>\n",
       "    <tr>\n",
       "      <th>ID</th>\n",
       "      <th></th>\n",
       "      <th></th>\n",
       "      <th></th>\n",
       "      <th></th>\n",
       "      <th></th>\n",
       "      <th></th>\n",
       "    </tr>\n",
       "  </thead>\n",
       "  <tbody>\n",
       "    <tr>\n",
       "      <th>1</th>\n",
       "      <td>A</td>\n",
       "      <td>1</td>\n",
       "      <td>A01</td>\n",
       "      <td>1</td>\n",
       "      <td>Set#1</td>\n",
       "      <td>20180622</td>\n",
       "    </tr>\n",
       "    <tr>\n",
       "      <th>2</th>\n",
       "      <td>A</td>\n",
       "      <td>2</td>\n",
       "      <td>A02</td>\n",
       "      <td>2</td>\n",
       "      <td>Set#1</td>\n",
       "      <td>20180622</td>\n",
       "    </tr>\n",
       "    <tr>\n",
       "      <th>3</th>\n",
       "      <td>A</td>\n",
       "      <td>3</td>\n",
       "      <td>A03</td>\n",
       "      <td>3</td>\n",
       "      <td>Set#1</td>\n",
       "      <td>20180622</td>\n",
       "    </tr>\n",
       "    <tr>\n",
       "      <th>4</th>\n",
       "      <td>A</td>\n",
       "      <td>4</td>\n",
       "      <td>A04</td>\n",
       "      <td>4</td>\n",
       "      <td>Set#1</td>\n",
       "      <td>20180622</td>\n",
       "    </tr>\n",
       "    <tr>\n",
       "      <th>5</th>\n",
       "      <td>A</td>\n",
       "      <td>5</td>\n",
       "      <td>A05</td>\n",
       "      <td>5</td>\n",
       "      <td>Set#1</td>\n",
       "      <td>20180622</td>\n",
       "    </tr>\n",
       "  </tbody>\n",
       "</table>\n",
       "</div>"
      ],
      "text/plain": [
       "   Row  Column Well  ID    Set RNA_isolation_date\n",
       "ID                                               \n",
       "1    A       1  A01   1  Set#1           20180622\n",
       "2    A       2  A02   2  Set#1           20180622\n",
       "3    A       3  A03   3  Set#1           20180622\n",
       "4    A       4  A04   4  Set#1           20180622\n",
       "5    A       5  A05   5  Set#1           20180622"
      ]
     },
     "execution_count": 65,
     "metadata": {},
     "output_type": "execute_result"
    }
   ],
   "source": [
    "design.head()"
   ]
  },
  {
   "cell_type": "code",
   "execution_count": 67,
   "metadata": {
    "collapsed": true
   },
   "outputs": [],
   "source": [
    "design.to_csv('design.csv')"
   ]
  },
  {
   "cell_type": "code",
   "execution_count": null,
   "metadata": {
    "collapsed": true
   },
   "outputs": [],
   "source": []
  }
 ],
 "metadata": {
  "kernelspec": {
   "display_name": "Python 3",
   "language": "python",
   "name": "python3"
  },
  "language_info": {
   "codemirror_mode": {
    "name": "ipython",
    "version": 3
   },
   "file_extension": ".py",
   "mimetype": "text/x-python",
   "name": "python",
   "nbconvert_exporter": "python",
   "pygments_lexer": "ipython3",
   "version": "3.6.3"
  }
 },
 "nbformat": 4,
 "nbformat_minor": 2
}
